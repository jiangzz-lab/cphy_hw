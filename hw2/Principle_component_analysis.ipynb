{
 "cells": [
  {
   "cell_type": "markdown",
   "metadata": {},
   "source": [
    "Explore the raw velocity data"
   ]
  },
  {
   "cell_type": "code",
   "execution_count": 2,
   "metadata": {},
   "outputs": [],
   "source": [
    "import numpy as np"
   ]
  },
  {
   "cell_type": "code",
   "execution_count": 7,
   "metadata": {},
   "outputs": [
    {
     "name": "stdout",
     "output_type": "stream",
     "text": [
      "Velocity field data as shape: (3000, 256, 128, 2)\n"
     ]
    }
   ],
   "source": [
    "# code copied from William\n",
    "Re = 600\n",
    "\n",
    "vfield = np.load(\n",
    "    f\"../hw2/resources/von_karman_street/vortex_street_velocities_Re_{Re}_largefile.npz\",\n",
    "    allow_pickle=True\n",
    ")\n",
    "print(\"Velocity field data as shape: {}\".format(vfield.shape))\n",
    "\n",
    "# Calculate the vortivity, which is the curl of the velocity field\n",
    "vort_field = np.diff(vfield, axis=1)[..., :1, 1] + np.diff(vfield, axis=2)[:, :-1, :, 0]"
   ]
  },
  {
   "cell_type": "markdown",
   "metadata": {},
   "source": [
    "Implement principle component analysis"
   ]
  },
  {
   "cell_type": "code",
   "execution_count": null,
   "metadata": {},
   "outputs": [],
   "source": [
    "from sklean.base import BaseEstimator, TransformerMixin"
   ]
  }
 ],
 "metadata": {
  "kernelspec": {
   "display_name": "Python 3.10.4 ('hwenv')",
   "language": "python",
   "name": "python3"
  },
  "language_info": {
   "codemirror_mode": {
    "name": "ipython",
    "version": 3
   },
   "file_extension": ".py",
   "mimetype": "text/x-python",
   "name": "python",
   "nbconvert_exporter": "python",
   "pygments_lexer": "ipython3",
   "version": "3.10.4"
  },
  "orig_nbformat": 4,
  "vscode": {
   "interpreter": {
    "hash": "c3c5c7bdae7ba7a448719aa02e55c70c522a210079c0ea21b7a1577607b61c34"
   }
  }
 },
 "nbformat": 4,
 "nbformat_minor": 2
}
