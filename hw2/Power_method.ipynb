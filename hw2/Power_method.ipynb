{
 "cells": [
  {
   "cell_type": "code",
   "execution_count": 1,
   "metadata": {},
   "outputs": [],
   "source": [
    "import numpy as np\n",
    "import matplotlib.pyplot as plt\n",
    "%matplotlib inline"
   ]
  },
  {
   "cell_type": "code",
   "execution_count": 2,
   "metadata": {},
   "outputs": [],
   "source": [
    "import warnings"
   ]
  },
  {
   "cell_type": "code",
   "execution_count": null,
   "metadata": {},
   "outputs": [],
   "source": [
    "class SpectralDecompositionPowerMethod:\n",
    "    \"\"\"\n",
    "    Store the output vector in the object attribute self.components_and the assciated eigenvalue in the object attribute self.singular_values_\n",
    "\n",
    "    Parameters:\n",
    "        max_iter (int): maximum number of iterations to for the calculation\n",
    "        tolerance (float): fractional change in solution to stop iteration early\n",
    "        gamma (float): momentum parameter for the power method\n",
    "        random_state (int): random seed for reproducibility\n",
    "        store_intermediate_results (bool): whether to store the intermediate results as the power method iterates\n",
    "        stored_eigenvalues (list): if store_intermediate_results is active, a list of eigenvalues at each iteration\n",
    "        stored_eigenvectors (list): if store_intermediate_results is active, a list of eigenvectors at each iteration\n",
    "    \"\"\"\n",
    "\n",
    "    def __init__(self, max_iter=1000, tolerance=1e-5, gamma=0.0, random_state=None, store_intermediate_results=False) -> None:\n",
    "        np.random.seed(random_state)\n",
    "        self.max_iter = max_iter\n",
    "        self.tolerance = tolerance\n",
    "        self.gamma = gamma\n",
    "        self.random_state = random_state\n",
    "        self.store_intermediate_results = store_intermediate_results\n",
    "\n",
    "        self.stored_intermediate_eigenvalues = []\n",
    "        self.stored_intermediate_eigenvectors = []\n",
    "\n",
    "        raise NotImplementedError()\n",
    "\n",
    "    def fit(self, A):\n",
    "        \"\"\" \n",
    "        Perform the power method with random initialization, and optionally store intermediate estimates of the eigenvalues and eigenvectors at each iteration.\n",
    "\n",
    "        Parameters:\n",
    "        A (np 2d array whose column size = row size)\n",
    "\n",
    "        Return the final vector\n",
    "        \"\"\"\n",
    "        size = A.shape[0]\n",
    "        current_vector = np.random.rand(size)\n",
    "        current_vector = current_vector / np.linalg.norm(current_vector)\n",
    "        next_vector = SpectralDecompositionPowerMethod.get_next_vector(current_vector)\n",
    "\n",
    "        iteration = 0\n",
    "\n",
    "        while (get_diff(current_vector, next_vector) > self.tolerance and iteration <= self.max_iter):\n",
    "            if self.store_intermediate_results:\n",
    "                self.stored_intermediate_eigenvalues.append(next_vector)\n",
    "                \n",
    "            current_vector = next_vector\n",
    "            next_vector = SpectralDecompositionPowerMethod.get_next_vector(next_vector)\n",
    "            \n",
    "    @staticmethod\n",
    "    def get_next_vector(current_vector, A):\n",
    "        \"\"\"\n",
    "        Given a normalized vector with size n and a matrix with size n * n, return the next normalized vector using the rule:\n",
    "        next_vector = A * current_vector / norm(A * current_vector)\n",
    "        \"\"\"\n",
    "        next_vector = np.matmul(A, current_vector)\n",
    "        return next_vector / np.linalg.norm(next_vector)"
   ]
  }
 ],
 "metadata": {
  "kernelspec": {
   "display_name": "Python 3.10.4 ('hwenv')",
   "language": "python",
   "name": "python3"
  },
  "language_info": {
   "codemirror_mode": {
    "name": "ipython",
    "version": 3
   },
   "file_extension": ".py",
   "mimetype": "text/x-python",
   "name": "python",
   "nbconvert_exporter": "python",
   "pygments_lexer": "ipython3",
   "version": "3.10.4"
  },
  "orig_nbformat": 4,
  "vscode": {
   "interpreter": {
    "hash": "c3c5c7bdae7ba7a448719aa02e55c70c522a210079c0ea21b7a1577607b61c34"
   }
  }
 },
 "nbformat": 4,
 "nbformat_minor": 2
}
